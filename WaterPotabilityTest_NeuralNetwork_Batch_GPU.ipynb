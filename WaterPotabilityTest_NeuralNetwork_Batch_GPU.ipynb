{
  "cells": [
    {
      "cell_type": "code",
      "source": [
        "!pip install torchmetrics"
      ],
      "metadata": {
        "id": "-8jQTfIdYDLj",
        "colab": {
          "base_uri": "https://localhost:8080/"
        },
        "outputId": "19b4692c-f3c8-44f3-e2dd-ef7bfa7397e3"
      },
      "id": "-8jQTfIdYDLj",
      "execution_count": 70,
      "outputs": [
        {
          "output_type": "stream",
          "name": "stdout",
          "text": [
            "Requirement already satisfied: torchmetrics in /usr/local/lib/python3.10/dist-packages (1.4.2)\n",
            "Requirement already satisfied: numpy>1.20.0 in /usr/local/lib/python3.10/dist-packages (from torchmetrics) (1.26.4)\n",
            "Requirement already satisfied: packaging>17.1 in /usr/local/lib/python3.10/dist-packages (from torchmetrics) (24.1)\n",
            "Requirement already satisfied: torch>=1.10.0 in /usr/local/lib/python3.10/dist-packages (from torchmetrics) (2.4.1+cu121)\n",
            "Requirement already satisfied: lightning-utilities>=0.8.0 in /usr/local/lib/python3.10/dist-packages (from torchmetrics) (0.11.7)\n",
            "Requirement already satisfied: setuptools in /usr/local/lib/python3.10/dist-packages (from lightning-utilities>=0.8.0->torchmetrics) (71.0.4)\n",
            "Requirement already satisfied: typing-extensions in /usr/local/lib/python3.10/dist-packages (from lightning-utilities>=0.8.0->torchmetrics) (4.12.2)\n",
            "Requirement already satisfied: filelock in /usr/local/lib/python3.10/dist-packages (from torch>=1.10.0->torchmetrics) (3.16.1)\n",
            "Requirement already satisfied: sympy in /usr/local/lib/python3.10/dist-packages (from torch>=1.10.0->torchmetrics) (1.13.3)\n",
            "Requirement already satisfied: networkx in /usr/local/lib/python3.10/dist-packages (from torch>=1.10.0->torchmetrics) (3.3)\n",
            "Requirement already satisfied: jinja2 in /usr/local/lib/python3.10/dist-packages (from torch>=1.10.0->torchmetrics) (3.1.4)\n",
            "Requirement already satisfied: fsspec in /usr/local/lib/python3.10/dist-packages (from torch>=1.10.0->torchmetrics) (2024.6.1)\n",
            "Requirement already satisfied: MarkupSafe>=2.0 in /usr/local/lib/python3.10/dist-packages (from jinja2->torch>=1.10.0->torchmetrics) (2.1.5)\n",
            "Requirement already satisfied: mpmath<1.4,>=1.1.0 in /usr/local/lib/python3.10/dist-packages (from sympy->torch>=1.10.0->torchmetrics) (1.3.0)\n"
          ]
        }
      ]
    },
    {
      "cell_type": "code",
      "execution_count": 71,
      "id": "5c11a563-53c9-4cc6-8d8e-0d045903ae6b",
      "metadata": {
        "colab": {
          "base_uri": "https://localhost:8080/",
          "height": 35
        },
        "id": "5c11a563-53c9-4cc6-8d8e-0d045903ae6b",
        "outputId": "ae1a6fa7-fc97-420c-a18d-92dcc356c602"
      },
      "outputs": [
        {
          "output_type": "execute_result",
          "data": {
            "text/plain": [
              "'cuda'"
            ],
            "application/vnd.google.colaboratory.intrinsic+json": {
              "type": "string"
            }
          },
          "metadata": {},
          "execution_count": 71
        }
      ],
      "source": [
        "import numpy as np\n",
        "import pandas as pd\n",
        "import torch\n",
        "import torch.nn as nn\n",
        "import torch.optim as optim\n",
        "import matplotlib.pyplot as plt\n",
        "from torchmetrics.classification import BinaryAccuracy\n",
        "from torchmetrics.classification import BinaryPrecision\n",
        "from torchmetrics.classification import BinaryRecall\n",
        "\n",
        "# Make device agnostic code\n",
        "device = \"cuda\" if torch.cuda.is_available() else \"cpu\"\n",
        "device"
      ]
    },
    {
      "cell_type": "code",
      "execution_count": 220,
      "id": "bff34dad-f35a-4cbe-b198-bee63085b27e",
      "metadata": {
        "colab": {
          "base_uri": "https://localhost:8080/"
        },
        "id": "bff34dad-f35a-4cbe-b198-bee63085b27e",
        "outputId": "b1df14b8-6696-4d58-9e4d-8b80ab0b5f36"
      },
      "outputs": [
        {
          "output_type": "stream",
          "name": "stdout",
          "text": [
            "raw data has 3276  after drop has 2011\n"
          ]
        }
      ],
      "source": [
        "# Load Data\n",
        "df_raw=pd.read_csv('../content/water_potability.csv')\n",
        "#df_raw=pd.read_csv('water_potability.csv')\n",
        "\n",
        "# drop Nan data and reset index\n",
        "df_dropped = df_raw.dropna()\n",
        "df = df_dropped.reset_index(drop=True)\n",
        "print(\"raw data has\", len(df_raw), \" after drop has\",  len(df))"
      ]
    },
    {
      "cell_type": "code",
      "execution_count": 221,
      "id": "752c9c5c-9421-4ad1-8765-d79305f92ac1",
      "metadata": {
        "colab": {
          "base_uri": "https://localhost:8080/",
          "height": 206
        },
        "id": "752c9c5c-9421-4ad1-8765-d79305f92ac1",
        "outputId": "558a98d9-eb97-4cf1-ec64-8bd2f3577a34"
      },
      "outputs": [
        {
          "output_type": "execute_result",
          "data": {
            "text/plain": [
              "          ph    Hardness        Solids  Chloramines     Sulfate  Conductivity  \\\n",
              "0   8.316766  214.373394  22018.417441     8.059332  356.886136    363.266516   \n",
              "1   9.092223  181.101509  17978.986339     6.546600  310.135738    398.410813   \n",
              "2   5.584087  188.313324  28748.687739     7.544869  326.678363    280.467916   \n",
              "3  10.223862  248.071735  28749.716544     7.513408  393.663396    283.651634   \n",
              "4   8.635849  203.361523  13672.091764     4.563009  303.309771    474.607645   \n",
              "\n",
              "   Organic_carbon  Trihalomethanes  Turbidity  Potability  \n",
              "0       18.436524       100.341674   4.628771           0  \n",
              "1       11.558279        31.997993   4.075075           0  \n",
              "2        8.399735        54.917862   2.559708           0  \n",
              "3       13.789695        84.603556   2.672989           0  \n",
              "4       12.363817        62.798309   4.401425           0  "
            ],
            "text/html": [
              "\n",
              "  <div id=\"df-42c4b5bf-40b5-4e5b-b86d-74463ddb6c36\" class=\"colab-df-container\">\n",
              "    <div>\n",
              "<style scoped>\n",
              "    .dataframe tbody tr th:only-of-type {\n",
              "        vertical-align: middle;\n",
              "    }\n",
              "\n",
              "    .dataframe tbody tr th {\n",
              "        vertical-align: top;\n",
              "    }\n",
              "\n",
              "    .dataframe thead th {\n",
              "        text-align: right;\n",
              "    }\n",
              "</style>\n",
              "<table border=\"1\" class=\"dataframe\">\n",
              "  <thead>\n",
              "    <tr style=\"text-align: right;\">\n",
              "      <th></th>\n",
              "      <th>ph</th>\n",
              "      <th>Hardness</th>\n",
              "      <th>Solids</th>\n",
              "      <th>Chloramines</th>\n",
              "      <th>Sulfate</th>\n",
              "      <th>Conductivity</th>\n",
              "      <th>Organic_carbon</th>\n",
              "      <th>Trihalomethanes</th>\n",
              "      <th>Turbidity</th>\n",
              "      <th>Potability</th>\n",
              "    </tr>\n",
              "  </thead>\n",
              "  <tbody>\n",
              "    <tr>\n",
              "      <th>0</th>\n",
              "      <td>8.316766</td>\n",
              "      <td>214.373394</td>\n",
              "      <td>22018.417441</td>\n",
              "      <td>8.059332</td>\n",
              "      <td>356.886136</td>\n",
              "      <td>363.266516</td>\n",
              "      <td>18.436524</td>\n",
              "      <td>100.341674</td>\n",
              "      <td>4.628771</td>\n",
              "      <td>0</td>\n",
              "    </tr>\n",
              "    <tr>\n",
              "      <th>1</th>\n",
              "      <td>9.092223</td>\n",
              "      <td>181.101509</td>\n",
              "      <td>17978.986339</td>\n",
              "      <td>6.546600</td>\n",
              "      <td>310.135738</td>\n",
              "      <td>398.410813</td>\n",
              "      <td>11.558279</td>\n",
              "      <td>31.997993</td>\n",
              "      <td>4.075075</td>\n",
              "      <td>0</td>\n",
              "    </tr>\n",
              "    <tr>\n",
              "      <th>2</th>\n",
              "      <td>5.584087</td>\n",
              "      <td>188.313324</td>\n",
              "      <td>28748.687739</td>\n",
              "      <td>7.544869</td>\n",
              "      <td>326.678363</td>\n",
              "      <td>280.467916</td>\n",
              "      <td>8.399735</td>\n",
              "      <td>54.917862</td>\n",
              "      <td>2.559708</td>\n",
              "      <td>0</td>\n",
              "    </tr>\n",
              "    <tr>\n",
              "      <th>3</th>\n",
              "      <td>10.223862</td>\n",
              "      <td>248.071735</td>\n",
              "      <td>28749.716544</td>\n",
              "      <td>7.513408</td>\n",
              "      <td>393.663396</td>\n",
              "      <td>283.651634</td>\n",
              "      <td>13.789695</td>\n",
              "      <td>84.603556</td>\n",
              "      <td>2.672989</td>\n",
              "      <td>0</td>\n",
              "    </tr>\n",
              "    <tr>\n",
              "      <th>4</th>\n",
              "      <td>8.635849</td>\n",
              "      <td>203.361523</td>\n",
              "      <td>13672.091764</td>\n",
              "      <td>4.563009</td>\n",
              "      <td>303.309771</td>\n",
              "      <td>474.607645</td>\n",
              "      <td>12.363817</td>\n",
              "      <td>62.798309</td>\n",
              "      <td>4.401425</td>\n",
              "      <td>0</td>\n",
              "    </tr>\n",
              "  </tbody>\n",
              "</table>\n",
              "</div>\n",
              "    <div class=\"colab-df-buttons\">\n",
              "\n",
              "  <div class=\"colab-df-container\">\n",
              "    <button class=\"colab-df-convert\" onclick=\"convertToInteractive('df-42c4b5bf-40b5-4e5b-b86d-74463ddb6c36')\"\n",
              "            title=\"Convert this dataframe to an interactive table.\"\n",
              "            style=\"display:none;\">\n",
              "\n",
              "  <svg xmlns=\"http://www.w3.org/2000/svg\" height=\"24px\" viewBox=\"0 -960 960 960\">\n",
              "    <path d=\"M120-120v-720h720v720H120Zm60-500h600v-160H180v160Zm220 220h160v-160H400v160Zm0 220h160v-160H400v160ZM180-400h160v-160H180v160Zm440 0h160v-160H620v160ZM180-180h160v-160H180v160Zm440 0h160v-160H620v160Z\"/>\n",
              "  </svg>\n",
              "    </button>\n",
              "\n",
              "  <style>\n",
              "    .colab-df-container {\n",
              "      display:flex;\n",
              "      gap: 12px;\n",
              "    }\n",
              "\n",
              "    .colab-df-convert {\n",
              "      background-color: #E8F0FE;\n",
              "      border: none;\n",
              "      border-radius: 50%;\n",
              "      cursor: pointer;\n",
              "      display: none;\n",
              "      fill: #1967D2;\n",
              "      height: 32px;\n",
              "      padding: 0 0 0 0;\n",
              "      width: 32px;\n",
              "    }\n",
              "\n",
              "    .colab-df-convert:hover {\n",
              "      background-color: #E2EBFA;\n",
              "      box-shadow: 0px 1px 2px rgba(60, 64, 67, 0.3), 0px 1px 3px 1px rgba(60, 64, 67, 0.15);\n",
              "      fill: #174EA6;\n",
              "    }\n",
              "\n",
              "    .colab-df-buttons div {\n",
              "      margin-bottom: 4px;\n",
              "    }\n",
              "\n",
              "    [theme=dark] .colab-df-convert {\n",
              "      background-color: #3B4455;\n",
              "      fill: #D2E3FC;\n",
              "    }\n",
              "\n",
              "    [theme=dark] .colab-df-convert:hover {\n",
              "      background-color: #434B5C;\n",
              "      box-shadow: 0px 1px 3px 1px rgba(0, 0, 0, 0.15);\n",
              "      filter: drop-shadow(0px 1px 2px rgba(0, 0, 0, 0.3));\n",
              "      fill: #FFFFFF;\n",
              "    }\n",
              "  </style>\n",
              "\n",
              "    <script>\n",
              "      const buttonEl =\n",
              "        document.querySelector('#df-42c4b5bf-40b5-4e5b-b86d-74463ddb6c36 button.colab-df-convert');\n",
              "      buttonEl.style.display =\n",
              "        google.colab.kernel.accessAllowed ? 'block' : 'none';\n",
              "\n",
              "      async function convertToInteractive(key) {\n",
              "        const element = document.querySelector('#df-42c4b5bf-40b5-4e5b-b86d-74463ddb6c36');\n",
              "        const dataTable =\n",
              "          await google.colab.kernel.invokeFunction('convertToInteractive',\n",
              "                                                    [key], {});\n",
              "        if (!dataTable) return;\n",
              "\n",
              "        const docLinkHtml = 'Like what you see? Visit the ' +\n",
              "          '<a target=\"_blank\" href=https://colab.research.google.com/notebooks/data_table.ipynb>data table notebook</a>'\n",
              "          + ' to learn more about interactive tables.';\n",
              "        element.innerHTML = '';\n",
              "        dataTable['output_type'] = 'display_data';\n",
              "        await google.colab.output.renderOutput(dataTable, element);\n",
              "        const docLink = document.createElement('div');\n",
              "        docLink.innerHTML = docLinkHtml;\n",
              "        element.appendChild(docLink);\n",
              "      }\n",
              "    </script>\n",
              "  </div>\n",
              "\n",
              "\n",
              "<div id=\"df-636eb692-4259-4df3-8947-96c883ed73a1\">\n",
              "  <button class=\"colab-df-quickchart\" onclick=\"quickchart('df-636eb692-4259-4df3-8947-96c883ed73a1')\"\n",
              "            title=\"Suggest charts\"\n",
              "            style=\"display:none;\">\n",
              "\n",
              "<svg xmlns=\"http://www.w3.org/2000/svg\" height=\"24px\"viewBox=\"0 0 24 24\"\n",
              "     width=\"24px\">\n",
              "    <g>\n",
              "        <path d=\"M19 3H5c-1.1 0-2 .9-2 2v14c0 1.1.9 2 2 2h14c1.1 0 2-.9 2-2V5c0-1.1-.9-2-2-2zM9 17H7v-7h2v7zm4 0h-2V7h2v10zm4 0h-2v-4h2v4z\"/>\n",
              "    </g>\n",
              "</svg>\n",
              "  </button>\n",
              "\n",
              "<style>\n",
              "  .colab-df-quickchart {\n",
              "      --bg-color: #E8F0FE;\n",
              "      --fill-color: #1967D2;\n",
              "      --hover-bg-color: #E2EBFA;\n",
              "      --hover-fill-color: #174EA6;\n",
              "      --disabled-fill-color: #AAA;\n",
              "      --disabled-bg-color: #DDD;\n",
              "  }\n",
              "\n",
              "  [theme=dark] .colab-df-quickchart {\n",
              "      --bg-color: #3B4455;\n",
              "      --fill-color: #D2E3FC;\n",
              "      --hover-bg-color: #434B5C;\n",
              "      --hover-fill-color: #FFFFFF;\n",
              "      --disabled-bg-color: #3B4455;\n",
              "      --disabled-fill-color: #666;\n",
              "  }\n",
              "\n",
              "  .colab-df-quickchart {\n",
              "    background-color: var(--bg-color);\n",
              "    border: none;\n",
              "    border-radius: 50%;\n",
              "    cursor: pointer;\n",
              "    display: none;\n",
              "    fill: var(--fill-color);\n",
              "    height: 32px;\n",
              "    padding: 0;\n",
              "    width: 32px;\n",
              "  }\n",
              "\n",
              "  .colab-df-quickchart:hover {\n",
              "    background-color: var(--hover-bg-color);\n",
              "    box-shadow: 0 1px 2px rgba(60, 64, 67, 0.3), 0 1px 3px 1px rgba(60, 64, 67, 0.15);\n",
              "    fill: var(--button-hover-fill-color);\n",
              "  }\n",
              "\n",
              "  .colab-df-quickchart-complete:disabled,\n",
              "  .colab-df-quickchart-complete:disabled:hover {\n",
              "    background-color: var(--disabled-bg-color);\n",
              "    fill: var(--disabled-fill-color);\n",
              "    box-shadow: none;\n",
              "  }\n",
              "\n",
              "  .colab-df-spinner {\n",
              "    border: 2px solid var(--fill-color);\n",
              "    border-color: transparent;\n",
              "    border-bottom-color: var(--fill-color);\n",
              "    animation:\n",
              "      spin 1s steps(1) infinite;\n",
              "  }\n",
              "\n",
              "  @keyframes spin {\n",
              "    0% {\n",
              "      border-color: transparent;\n",
              "      border-bottom-color: var(--fill-color);\n",
              "      border-left-color: var(--fill-color);\n",
              "    }\n",
              "    20% {\n",
              "      border-color: transparent;\n",
              "      border-left-color: var(--fill-color);\n",
              "      border-top-color: var(--fill-color);\n",
              "    }\n",
              "    30% {\n",
              "      border-color: transparent;\n",
              "      border-left-color: var(--fill-color);\n",
              "      border-top-color: var(--fill-color);\n",
              "      border-right-color: var(--fill-color);\n",
              "    }\n",
              "    40% {\n",
              "      border-color: transparent;\n",
              "      border-right-color: var(--fill-color);\n",
              "      border-top-color: var(--fill-color);\n",
              "    }\n",
              "    60% {\n",
              "      border-color: transparent;\n",
              "      border-right-color: var(--fill-color);\n",
              "    }\n",
              "    80% {\n",
              "      border-color: transparent;\n",
              "      border-right-color: var(--fill-color);\n",
              "      border-bottom-color: var(--fill-color);\n",
              "    }\n",
              "    90% {\n",
              "      border-color: transparent;\n",
              "      border-bottom-color: var(--fill-color);\n",
              "    }\n",
              "  }\n",
              "</style>\n",
              "\n",
              "  <script>\n",
              "    async function quickchart(key) {\n",
              "      const quickchartButtonEl =\n",
              "        document.querySelector('#' + key + ' button');\n",
              "      quickchartButtonEl.disabled = true;  // To prevent multiple clicks.\n",
              "      quickchartButtonEl.classList.add('colab-df-spinner');\n",
              "      try {\n",
              "        const charts = await google.colab.kernel.invokeFunction(\n",
              "            'suggestCharts', [key], {});\n",
              "      } catch (error) {\n",
              "        console.error('Error during call to suggestCharts:', error);\n",
              "      }\n",
              "      quickchartButtonEl.classList.remove('colab-df-spinner');\n",
              "      quickchartButtonEl.classList.add('colab-df-quickchart-complete');\n",
              "    }\n",
              "    (() => {\n",
              "      let quickchartButtonEl =\n",
              "        document.querySelector('#df-636eb692-4259-4df3-8947-96c883ed73a1 button');\n",
              "      quickchartButtonEl.style.display =\n",
              "        google.colab.kernel.accessAllowed ? 'block' : 'none';\n",
              "    })();\n",
              "  </script>\n",
              "</div>\n",
              "\n",
              "    </div>\n",
              "  </div>\n"
            ],
            "application/vnd.google.colaboratory.intrinsic+json": {
              "type": "dataframe",
              "variable_name": "df",
              "summary": "{\n  \"name\": \"df\",\n  \"rows\": 2011,\n  \"fields\": [\n    {\n      \"column\": \"ph\",\n      \"properties\": {\n        \"dtype\": \"number\",\n        \"std\": 1.573336710637078,\n        \"min\": 0.2274990502021987,\n        \"max\": 13.999999999999998,\n        \"num_unique_values\": 2011,\n        \"samples\": [\n          8.157518082656166,\n          8.296344055589273,\n          6.576845323081143\n        ],\n        \"semantic_type\": \"\",\n        \"description\": \"\"\n      }\n    },\n    {\n      \"column\": \"Hardness\",\n      \"properties\": {\n        \"dtype\": \"number\",\n        \"std\": 32.63508452312832,\n        \"min\": 73.4922336890611,\n        \"max\": 317.33812405558257,\n        \"num_unique_values\": 2011,\n        \"samples\": [\n          236.34444018130267,\n          198.19705121398164,\n          156.22176808976658\n        ],\n        \"semantic_type\": \"\",\n        \"description\": \"\"\n      }\n    },\n    {\n      \"column\": \"Solids\",\n      \"properties\": {\n        \"dtype\": \"number\",\n        \"std\": 8642.239815162271,\n        \"min\": 320.942611274359,\n        \"max\": 56488.67241273919,\n        \"num_unique_values\": 2011,\n        \"samples\": [\n          27931.2084020948,\n          17468.99980174377,\n          12772.095750375796\n        ],\n        \"semantic_type\": \"\",\n        \"description\": \"\"\n      }\n    },\n    {\n      \"column\": \"Chloramines\",\n      \"properties\": {\n        \"dtype\": \"number\",\n        \"std\": 1.5848198811839804,\n        \"min\": 1.3908709048851806,\n        \"max\": 13.127000000000002,\n        \"num_unique_values\": 2011,\n        \"samples\": [\n          6.203675921735492,\n          8.262903987469691,\n          9.759897651507403\n        ],\n        \"semantic_type\": \"\",\n        \"description\": \"\"\n      }\n    },\n    {\n      \"column\": \"Sulfate\",\n      \"properties\": {\n        \"dtype\": \"number\",\n        \"std\": 41.20517203715113,\n        \"min\": 129.00000000000003,\n        \"max\": 481.0306423059972,\n        \"num_unique_values\": 2011,\n        \"samples\": [\n          325.32395487892074,\n          369.5907404838077,\n          341.7493777183877\n        ],\n        \"semantic_type\": \"\",\n        \"description\": \"\"\n      }\n    },\n    {\n      \"column\": \"Conductivity\",\n      \"properties\": {\n        \"dtype\": \"number\",\n        \"std\": 80.71257240919472,\n        \"min\": 201.6197367551575,\n        \"max\": 753.3426195583046,\n        \"num_unique_values\": 2011,\n        \"samples\": [\n          511.5876640552089,\n          294.32514221521586,\n          418.9724665928773\n        ],\n        \"semantic_type\": \"\",\n        \"description\": \"\"\n      }\n    },\n    {\n      \"column\": \"Organic_carbon\",\n      \"properties\": {\n        \"dtype\": \"number\",\n        \"std\": 3.3249586589709814,\n        \"min\": 2.1999999999999886,\n        \"max\": 27.00670661116601,\n        \"num_unique_values\": 2011,\n        \"samples\": [\n          13.381574853259394,\n          18.026098152350755,\n          10.382252653107573\n        ],\n        \"semantic_type\": \"\",\n        \"description\": \"\"\n      }\n    },\n    {\n      \"column\": \"Trihalomethanes\",\n      \"properties\": {\n        \"dtype\": \"number\",\n        \"std\": 16.077109482430863,\n        \"min\": 8.577012932983806,\n        \"max\": 124.0,\n        \"num_unique_values\": 2011,\n        \"samples\": [\n          80.68695836176197,\n          44.06162518425721,\n          78.3051797103557\n        ],\n        \"semantic_type\": \"\",\n        \"description\": \"\"\n      }\n    },\n    {\n      \"column\": \"Turbidity\",\n      \"properties\": {\n        \"dtype\": \"number\",\n        \"std\": 0.7803461587138517,\n        \"min\": 1.45,\n        \"max\": 6.494748555990993,\n        \"num_unique_values\": 2011,\n        \"samples\": [\n          4.469430538245373,\n          5.400810789347245,\n          3.7713135180813815\n        ],\n        \"semantic_type\": \"\",\n        \"description\": \"\"\n      }\n    },\n    {\n      \"column\": \"Potability\",\n      \"properties\": {\n        \"dtype\": \"number\",\n        \"std\": 0,\n        \"min\": 0,\n        \"max\": 1,\n        \"num_unique_values\": 2,\n        \"samples\": [\n          1,\n          0\n        ],\n        \"semantic_type\": \"\",\n        \"description\": \"\"\n      }\n    }\n  ]\n}"
            }
          },
          "metadata": {},
          "execution_count": 221
        }
      ],
      "source": [
        "df.head()"
      ]
    },
    {
      "cell_type": "code",
      "execution_count": 222,
      "id": "017b53c2-4e25-4ab1-9207-898c7d4c91e8",
      "metadata": {
        "id": "017b53c2-4e25-4ab1-9207-898c7d4c91e8"
      },
      "outputs": [],
      "source": [
        "# Convert from Pandas dataframe to Numpy array\n",
        "ndf = df.to_numpy()"
      ]
    },
    {
      "cell_type": "code",
      "execution_count": 223,
      "id": "4ea4c849-cb7c-49a3-9c8e-5ff55cf8d5f2",
      "metadata": {
        "colab": {
          "base_uri": "https://localhost:8080/"
        },
        "id": "4ea4c849-cb7c-49a3-9c8e-5ff55cf8d5f2",
        "outputId": "c3ee4082-bb08-44a8-d7ec-eed0496b23f3"
      },
      "outputs": [
        {
          "output_type": "stream",
          "name": "stdout",
          "text": [
            "Data size after converting to numpy is 2011\n"
          ]
        }
      ],
      "source": [
        "print(\"Data size after converting to numpy is\", len(ndf))"
      ]
    },
    {
      "cell_type": "code",
      "execution_count": 224,
      "id": "852589cc-850b-4ec8-a768-a805efba792c",
      "metadata": {
        "id": "852589cc-850b-4ec8-a768-a805efba792c"
      },
      "outputs": [],
      "source": [
        "# split into input (X) and output (y) variables\n",
        "X = ndf[:,0:9]\n",
        "y = ndf[:,9]\n",
        "\n",
        "# create a tensor out of NumPy arrays\n",
        "X = torch.tensor(X, dtype=torch.float32)\n",
        "y = torch.tensor(y, dtype=torch.float32).reshape(-1, 1)\n",
        "\n",
        "from sklearn.model_selection import train_test_split\n",
        "X_train, X_test, y_train, y_test = train_test_split(X, y, test_size=0.3, random_state=101)\n",
        "\n",
        "# Put data to target device\n",
        "X_train, y_train = X_train.to(device), y_train.to(device)\n",
        "X_test, y_test = X_test.to(device), y_test.to(device)"
      ]
    },
    {
      "cell_type": "code",
      "execution_count": 233,
      "id": "d456258c-ea8a-49a8-9d8b-cb2de6c9adc4",
      "metadata": {
        "id": "d456258c-ea8a-49a8-9d8b-cb2de6c9adc4",
        "colab": {
          "base_uri": "https://localhost:8080/",
          "height": 52
        },
        "outputId": "e85f42e7-baf2-4cc7-af58-a4ec9741da5b"
      },
      "outputs": [
        {
          "output_type": "execute_result",
          "data": {
            "text/plain": [
              "'\\nmodel = nn.Sequential(\\n    nn.Linear(9, 16),\\n    nn.ReLU(),\\n    nn.Linear(16, 32),\\n    nn.ReLU(),\\n    nn.Linear(32, 32),\\n    nn.ReLU(),\\n    nn.Linear(32, 16),\\n    nn.ReLU(),\\n    nn.Linear(16, 1)\\n).to(device)\\n'"
            ],
            "application/vnd.google.colaboratory.intrinsic+json": {
              "type": "string"
            }
          },
          "metadata": {},
          "execution_count": 233
        }
      ],
      "source": [
        "# define model: 3 layers\n",
        "\n",
        "model = nn.Sequential(\n",
        "    nn.Linear(9, 16),\n",
        "    nn.ReLU(),\n",
        "    nn.Linear(16, 16),\n",
        "    nn.ReLU(),\n",
        "    nn.Linear(16, 1)\n",
        ").to(device)\n",
        "\n",
        "\n",
        "# define model: 4 layers\n",
        "'''\n",
        "model = nn.Sequential(\n",
        "    nn.Linear(9, 16),\n",
        "    nn.ReLU(),\n",
        "    nn.Linear(16, 16),\n",
        "    nn.ReLU(),\n",
        "    nn.Linear(16, 16),\n",
        "    nn.ReLU(),\n",
        "    nn.Linear(16, 1)\n",
        ").to(device)\n",
        "'''\n",
        "\n",
        "# define model: 5 layers\n",
        "'''\n",
        "model = nn.Sequential(\n",
        "    nn.Linear(9, 16),\n",
        "    nn.ReLU(),\n",
        "    nn.Linear(16, 16),\n",
        "    nn.ReLU(),\n",
        "    nn.Linear(16, 16),\n",
        "    nn.ReLU(),\n",
        "    nn.Linear(16, 16),\n",
        "    nn.ReLU(),\n",
        "    nn.Linear(16, 1)\n",
        ").to(device)\n",
        "'''\n",
        "\n",
        "# define model: 6 layers\n",
        "'''\n",
        "model = nn.Sequential(\n",
        "    nn.Linear(9, 16),\n",
        "    nn.ReLU(),\n",
        "    nn.Linear(16, 32),\n",
        "    nn.ReLU(),\n",
        "    nn.Linear(32, 32),\n",
        "    nn.ReLU(),\n",
        "    nn.Linear(32, 16),\n",
        "    nn.ReLU(),\n",
        "    nn.Linear(16, 1)\n",
        ").to(device)\n",
        "'''"
      ]
    },
    {
      "cell_type": "code",
      "execution_count": 234,
      "id": "f99daf80-a81b-4cae-9b7c-e4f8878cbac5",
      "metadata": {
        "colab": {
          "base_uri": "https://localhost:8080/"
        },
        "id": "f99daf80-a81b-4cae-9b7c-e4f8878cbac5",
        "outputId": "f0f18913-403f-48da-8f4c-11f358c3cd19"
      },
      "outputs": [
        {
          "output_type": "stream",
          "name": "stdout",
          "text": [
            "Sequential(\n",
            "  (0): Linear(in_features=9, out_features=16, bias=True)\n",
            "  (1): ReLU()\n",
            "  (2): Linear(in_features=16, out_features=16, bias=True)\n",
            "  (3): ReLU()\n",
            "  (4): Linear(in_features=16, out_features=1, bias=True)\n",
            ")\n"
          ]
        }
      ],
      "source": [
        "print(model)"
      ]
    },
    {
      "cell_type": "code",
      "execution_count": 235,
      "id": "8171048c-8c6a-4cda-af6c-ad6046cd9b5d",
      "metadata": {
        "id": "8171048c-8c6a-4cda-af6c-ad6046cd9b5d"
      },
      "outputs": [],
      "source": [
        "# define loss function and optimizer with default learning rate as 0.001\n",
        "loss_fn = nn.BCEWithLogitsLoss().to(device)  # binary cross entropy\n",
        "optimizer = optim.Adam(model.parameters(), lr=0.00001)"
      ]
    },
    {
      "cell_type": "code",
      "execution_count": 236,
      "id": "f672848e-c134-40a1-ab52-2e59f8c463e5",
      "metadata": {
        "id": "f672848e-c134-40a1-ab52-2e59f8c463e5"
      },
      "outputs": [],
      "source": [
        "# Set manual seed since nn.Parameter are randomly initialzied\n",
        "torch.manual_seed(42)\n",
        "\n",
        "precision_metric = BinaryPrecision().to(device)\n",
        "accuracy_metric = BinaryAccuracy().to(device)\n",
        "recall_metric = BinaryRecall().to(device)\n",
        "\n",
        "# Create empty loss lists to track values\n",
        "train_loss_values = []\n",
        "test_loss_values = []\n",
        "epoch_count = []\n",
        "train_accuray_values = []\n",
        "test_accuray_values = []\n",
        "test_precision_values = []\n",
        "test_recall_values = []\n"
      ]
    },
    {
      "cell_type": "code",
      "execution_count": 241,
      "id": "42d04349-ee34-465d-a815-59f5befbca9b",
      "metadata": {
        "id": "42d04349-ee34-465d-a815-59f5befbca9b"
      },
      "outputs": [],
      "source": [
        "\n",
        "# Train the model\n",
        "n_epochs = 500\n",
        "\n",
        "# split dataset into the batch of 10\n",
        "batch_size = 128\n",
        "\n",
        "# run as one batch on entire data set\n",
        "#batch_size = len(X_train)\n",
        "\n",
        "for epoch in range(n_epochs):\n",
        "    indices = torch.randperm(len(X_train))\n",
        "    for i in range(0, len(X_train), batch_size):\n",
        "        model.train()\n",
        "\n",
        "        batch_indices = indices[i:i+batch_size]\n",
        "        Xbatch = X_train[batch_indices]\n",
        "        ybatch = y_train[batch_indices]\n",
        "\n",
        "        Xbatch = Xbatch.to(device)\n",
        "        ybatch = ybatch.to(device)\n",
        "\n",
        "        # Forward pass (model outputs raw logits)\n",
        "        ybatch_logits = model(Xbatch)\n",
        "        ybatch_pred = torch.round(torch.sigmoid(ybatch_logits))\n",
        "\n",
        "        # Calculate the loss\n",
        "        loss = loss_fn(ybatch_logits, ybatch)\n",
        "        train_accuracy = accuracy_metric(ybatch_pred.to(device), ybatch.to(device))\n",
        "\n",
        "        #Zero gradients\n",
        "        optimizer.zero_grad()\n",
        "\n",
        "        # Perform backpropagation on the loss\n",
        "        loss.backward()\n",
        "\n",
        "        # Step the optimizer (gradient descent)\n",
        "        optimizer.step()\n",
        "\n",
        "         # print loss\n",
        "        #print(f'Finished epoch {epoch}, latest loss {loss}')\n",
        "\n",
        "    ### Testing\n",
        "\n",
        "    # Put the model in evaluation mode\n",
        "    model.eval()\n",
        "\n",
        "    with torch.inference_mode():\n",
        "        # 1. Forward pass on test data\n",
        "        test_logits = model(X_test.to(device))\n",
        "        test_pred = torch.round(torch.sigmoid(test_logits))\n",
        "\n",
        "        # 2. Caculate loss on test data\n",
        "        test_loss = loss_fn(test_logits, y_test)\n",
        "        test_accuracy = accuracy_metric(test_pred, y_test)\n",
        "\n",
        "        test_precision = precision_metric(test_pred, y_test)\n",
        "        test_recall = recall_metric(test_pred, y_test)\n",
        "\n",
        "      # Print out what's happening\n",
        "        epoch_count.append(epoch)\n",
        "        train_loss_values.append(loss.detach().cpu().numpy())\n",
        "        test_loss_values.append(test_loss.detach().cpu().numpy())\n",
        "        train_accuray_values.append(train_accuracy.detach().cpu().numpy())\n",
        "        test_accuray_values.append(test_accuracy.detach().cpu().numpy())\n",
        "        test_precision_values.append(test_precision.detach().cpu().numpy())\n",
        "        test_recall_values.append(test_recall.detach().cpu().numpy())\n",
        "\n",
        "\n"
      ]
    },
    {
      "cell_type": "code",
      "execution_count": 242,
      "id": "aa571073-8a0d-423b-bb32-983dcdab3093",
      "metadata": {
        "colab": {
          "base_uri": "https://localhost:8080/"
        },
        "id": "aa571073-8a0d-423b-bb32-983dcdab3093",
        "outputId": "ee65e834-30b2-40ac-fc52-172985edc385"
      },
      "outputs": [
        {
          "output_type": "stream",
          "name": "stdout",
          "text": [
            "Accuracy of the network on train data: 0.58067\n",
            "Accuracy of the network on test data: 0.55795\n",
            "Precision of the network on test data: 0.45679\n",
            "Recall of the network on test data: 0.29249\n"
          ]
        }
      ],
      "source": [
        "# Predict: Turn model into evaluation mode\n",
        "model.eval()\n",
        "\n",
        "# Make predictions on the test data\n",
        "with torch.inference_mode():\n",
        "    y_preds_test = model(X_test)\n",
        "    y_preds_train = model(X_train)\n",
        "y_preds_test\n",
        "y_preds_train\n",
        "\n",
        "train_accuracy = accuracy_metric(y_preds_train, y_train)\n",
        "test_accuracy = accuracy_metric(y_preds_test, y_test)\n",
        "preds_precision = precision_metric(y_preds_test, y_test)\n",
        "preds_recall = recall_metric(y_preds_test, y_test)\n",
        "print('Accuracy of the network on train data: {:.5f}'.format(train_accuracy))\n",
        "print('Accuracy of the network on test data: {:.5f}'.format(test_accuracy))\n",
        "print('Precision of the network on test data: {:.5f}'.format(preds_precision))\n",
        "print('Recall of the network on test data: {:.5f}'.format(preds_recall))"
      ]
    }
  ],
  "metadata": {
    "kernelspec": {
      "display_name": "Python 3",
      "name": "python3"
    },
    "language_info": {
      "codemirror_mode": {
        "name": "ipython",
        "version": 3
      },
      "file_extension": ".py",
      "mimetype": "text/x-python",
      "name": "python",
      "nbconvert_exporter": "python",
      "pygments_lexer": "ipython3",
      "version": "3.9.6"
    },
    "colab": {
      "provenance": [],
      "gpuType": "T4"
    },
    "accelerator": "GPU"
  },
  "nbformat": 4,
  "nbformat_minor": 5
}